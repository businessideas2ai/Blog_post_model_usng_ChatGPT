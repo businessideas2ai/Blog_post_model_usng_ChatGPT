{
  "nbformat": 4,
  "nbformat_minor": 0,
  "metadata": {
    "colab": {
      "provenance": []
    },
    "kernelspec": {
      "name": "python3",
      "display_name": "Python 3"
    },
    "language_info": {
      "name": "python"
    }
  },
  "cells": [
    {
      "cell_type": "markdown",
      "source": [
        "Frist of all we will install openai."
      ],
      "metadata": {
        "id": "cLV8rpSZyva0"
      }
    },
    {
      "cell_type": "code",
      "source": [
        "pip install openai==0.28"
      ],
      "metadata": {
        "id": "MCFNJ76TNAML"
      },
      "execution_count": null,
      "outputs": []
    },
    {
      "cell_type": "markdown",
      "source": [
        "\"Then, import all the functionalities from OpenAI. Here, you can generate your API key and paste it here. Follow this link https://platform.openai.com/api-keys for your new API."
      ],
      "metadata": {
        "id": "Nmcg4FF9y35Z"
      }
    },
    {
      "cell_type": "code",
      "source": [
        "import openai\n",
        "\n",
        "openai.api_key = 'your API key'"
      ],
      "metadata": {
        "id": "KbBY5Y_BxR_6"
      },
      "execution_count": null,
      "outputs": []
    },
    {
      "cell_type": "markdown",
      "source": [
        "## Unveiling the Power of ChatGPT API Key: Crafting Engaging Blog Posts\n",
        "In the realm of content creation, crafting captivating blog posts has emerged as a powerful tool for engaging audiences and establishing thought leadership. However, the process of generating high-quality blog posts often demands significant time and effort. Fortunately, the advent of artificial intelligence (AI) has opened up new avenues for streamlining and enhancing this process.\n",
        "\n",
        "\n",
        "We will create a model of blog posts using the ChatGPT API key.\n",
        "\n",
        "### In the generate_blog function, we will inform the system about your role and responsibilities.\n",
        "\n",
        "We will pass a list of dictionaries containing roles and content for both parties: the user and the system. We should define both sides. The content should not be too long, as it will consume your tokens. For each response, you will be charged based on the input length plus the output length of the message. If you write very long content, it will be more expensive.\n",
        "\n",
        "### The response = openai.ChatCompletion.create() function is predefined in OpenAI. It takes several parameters:\n",
        "\n",
        "### model:\n",
        " This determines the creativity of the content. Here, I am using \"gpt-3.5-turbo\" because it is fast enough and provides accurate answers, but it is not as powerful as \"gpt-4,\" which is currently slower but expected to become faster in the future. There are many other models available in OpenAI that you can choose based on your pricing preferences.\n",
        "### max_tokens:\n",
        "This determines the desired length of the response.\n",
        "### n=1:\n",
        " This means that only one response will be returned, not more than one. You can experiment with this value.\n",
        "###Temperature:\n",
        "This depends on the type of work you are doing and what you need to adjust. You can also experiment with this value. Increasing the temperature will make the response more creative.\n",
        "### The code snippet response_text = response.choices[0].message.content.strip().lower() is used to clean and prepare the text response from a chatbot model before further processing. It performs the following steps:\n",
        "\n",
        "Extract the first response: response.choices[0] selects the first response from the list of possible responses provided by the chatbot model.\n",
        "\n",
        "Access the message content: .message.content retrieves the actual text content of the response.\n",
        "\n",
        "Remove leading and trailing whitespace: .strip() eliminates any extra spaces at the beginning or end of the text.\n",
        "\n",
        "Convert to lowercase: .lower() converts all characters in the text to lowercase, ensuring consistent formatting.\n",
        "\n",
        "This code snippet is commonly used in chatbot applications to ensure that the text response is ready for further analysis or manipulation."
      ],
      "metadata": {
        "id": "xnwxR_3-0JfZ"
      }
    },
    {
      "cell_type": "code",
      "source": [
        "def generate_blog(topic):\n",
        "    messages = [\n",
        "        {\"role\": \"system\", \"content\": \"\"\"You are trained to analyze a topic and generate a blog post.\n",
        "                                        The blog post must contain 1500 to 3000 words (No less than 1500 words).\"\"\"},\n",
        "        {\"role\": \"user\", \"content\": f\"\"\"Analyze the topic and generate a blog post. The topic is {topic}\n",
        "                                        The blog post should contain the following format.\n",
        "                                        1) Title (Not more than one line).\n",
        "                                        2) Introduction (Give introducion about the topic)\n",
        "                                        3) Add an image url relevent to the topic.\n",
        "                                        4) Add 2/3 subheadings and explain them.\n",
        "                                        5) Body (should describe the facts and findings)\n",
        "                                        6) Add an image url relevent to the topic.\n",
        "                                        7) Add 2/3 subheadings and explain them.\n",
        "                                        8) General FAQ regarding the topic.\n",
        "                                        9) Conclusion of the topic. \"\"\"}\n",
        "        ]\n",
        "\n",
        "    response = openai.ChatCompletion.create(\n",
        "                      model=\"gpt-3.5-turbo\",\n",
        "                      messages=messages,\n",
        "                      max_tokens= 3000,\n",
        "                      n=1,\n",
        "                      stop=None,\n",
        "                      temperature=0.5)\n",
        "\n",
        "    response_text = response.choices[0].message.content.strip().lower()\n",
        "\n",
        "    return response_text"
      ],
      "metadata": {
        "id": "uLX0pid_N_8m"
      },
      "execution_count": null,
      "outputs": []
    },
    {
      "cell_type": "code",
      "source": [
        "user_input =\"Machine Learning\"\n",
        "blog = generate_blog(user_input)\n",
        "print(blog)"
      ],
      "metadata": {
        "id": "kxkSl-zSxSGr"
      },
      "execution_count": null,
      "outputs": []
    }
  ]
}